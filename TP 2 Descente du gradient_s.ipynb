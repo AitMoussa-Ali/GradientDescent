{
 "cells": [
  {
   "cell_type": "markdown",
   "metadata": {
    "id": "j1_GBEAaf2e0"
   },
   "source": [
    "# TP 2 Descente du Gradient\n",
    "Dans ce TP, nous aimerions prédire le bénéfice d'une entreprise dans plusieurs ville en nous basant sur les habitant de cette ville.\n",
    "\n",
    "Pour ce faire, nous étudierons un ensemble de données avec le bénéfice (y) et les caractéristiques des habitants (X).\n",
    "\n",
    "La prédiction se fera avec l'agorithme de descente du gradient."
   ]
  },
  {
   "cell_type": "markdown",
   "metadata": {
    "id": "xqXVyDtlf2e4"
   },
   "source": [
    "# Importation des librairies necessaires au travail"
   ]
  },
  {
   "cell_type": "code",
   "execution_count": 3,
   "metadata": {
    "id": "Z7Ut1MyHf2e4"
   },
   "outputs": [],
   "source": [
    "import numpy as np\n",
    "import matplotlib.pyplot as plt\n"
   ]
  },
  {
   "cell_type": "markdown",
   "metadata": {
    "id": "ekH1R_JWf2e5"
   },
   "source": [
    "# Lecture des fichiers de données\n",
    "Pour ce TP, nous allons lire les données à partir d'un fichier csv."
   ]
  },
  {
   "cell_type": "code",
   "execution_count": 4,
   "metadata": {
    "id": "GsEfLfb6f2e6",
    "outputId": "6bfb8c10-c80a-43ad-cd7f-7bfcd73e64e6"
   },
   "outputs": [
    {
     "data": {
      "text/plain": [
       "(97, 2)"
      ]
     },
     "execution_count": 4,
     "metadata": {},
     "output_type": "execute_result"
    }
   ],
   "source": [
    "# données\n",
    "data = np.genfromtxt('data.csv', delimiter=',')\n",
    "data.shape"
   ]
  },
  {
   "cell_type": "markdown",
   "metadata": {
    "id": "hYl6Ry2Uf2e7"
   },
   "source": [
    "Dans ces données (data), la première colonne represente la première caractéristique (la population d'une ville x1000), la deuxieme colonne represente le bénéfice (x1000).\n",
    "\n",
    "Chaque ligne represente un exemple de notre ensemble de données. \n",
    "\n",
    "Mettons ces données dans leus vecteurs correspondants."
   ]
  },
  {
   "cell_type": "code",
   "execution_count": 5,
   "metadata": {
    "id": "ocIjARGwf2e7"
   },
   "outputs": [
    {
     "name": "stdout",
     "output_type": "stream",
     "text": [
      "(97, 2)\n"
     ]
    },
    {
     "data": {
      "text/plain": [
       "array([[ 1.    ,  6.1101],\n",
       "       [ 1.    ,  5.5277],\n",
       "       [ 1.    ,  8.5186],\n",
       "       [ 1.    ,  7.0032],\n",
       "       [ 1.    ,  5.8598],\n",
       "       [ 1.    ,  8.3829],\n",
       "       [ 1.    ,  7.4764],\n",
       "       [ 1.    ,  8.5781],\n",
       "       [ 1.    ,  6.4862],\n",
       "       [ 1.    ,  5.0546],\n",
       "       [ 1.    ,  5.7107],\n",
       "       [ 1.    , 14.164 ],\n",
       "       [ 1.    ,  5.734 ],\n",
       "       [ 1.    ,  8.4084],\n",
       "       [ 1.    ,  5.6407],\n",
       "       [ 1.    ,  5.3794],\n",
       "       [ 1.    ,  6.3654],\n",
       "       [ 1.    ,  5.1301],\n",
       "       [ 1.    ,  6.4296],\n",
       "       [ 1.    ,  7.0708],\n",
       "       [ 1.    ,  6.1891],\n",
       "       [ 1.    , 20.27  ],\n",
       "       [ 1.    ,  5.4901],\n",
       "       [ 1.    ,  6.3261],\n",
       "       [ 1.    ,  5.5649],\n",
       "       [ 1.    , 18.945 ],\n",
       "       [ 1.    , 12.828 ],\n",
       "       [ 1.    , 10.957 ],\n",
       "       [ 1.    , 13.176 ],\n",
       "       [ 1.    , 22.203 ],\n",
       "       [ 1.    ,  5.2524],\n",
       "       [ 1.    ,  6.5894],\n",
       "       [ 1.    ,  9.2482],\n",
       "       [ 1.    ,  5.8918],\n",
       "       [ 1.    ,  8.2111],\n",
       "       [ 1.    ,  7.9334],\n",
       "       [ 1.    ,  8.0959],\n",
       "       [ 1.    ,  5.6063],\n",
       "       [ 1.    , 12.836 ],\n",
       "       [ 1.    ,  6.3534],\n",
       "       [ 1.    ,  5.4069],\n",
       "       [ 1.    ,  6.8825],\n",
       "       [ 1.    , 11.708 ],\n",
       "       [ 1.    ,  5.7737],\n",
       "       [ 1.    ,  7.8247],\n",
       "       [ 1.    ,  7.0931],\n",
       "       [ 1.    ,  5.0702],\n",
       "       [ 1.    ,  5.8014],\n",
       "       [ 1.    , 11.7   ],\n",
       "       [ 1.    ,  5.5416],\n",
       "       [ 1.    ,  7.5402],\n",
       "       [ 1.    ,  5.3077],\n",
       "       [ 1.    ,  7.4239],\n",
       "       [ 1.    ,  7.6031],\n",
       "       [ 1.    ,  6.3328],\n",
       "       [ 1.    ,  6.3589],\n",
       "       [ 1.    ,  6.2742],\n",
       "       [ 1.    ,  5.6397],\n",
       "       [ 1.    ,  9.3102],\n",
       "       [ 1.    ,  9.4536],\n",
       "       [ 1.    ,  8.8254],\n",
       "       [ 1.    ,  5.1793],\n",
       "       [ 1.    , 21.279 ],\n",
       "       [ 1.    , 14.908 ],\n",
       "       [ 1.    , 18.959 ],\n",
       "       [ 1.    ,  7.2182],\n",
       "       [ 1.    ,  8.2951],\n",
       "       [ 1.    , 10.236 ],\n",
       "       [ 1.    ,  5.4994],\n",
       "       [ 1.    , 20.341 ],\n",
       "       [ 1.    , 10.136 ],\n",
       "       [ 1.    ,  7.3345],\n",
       "       [ 1.    ,  6.0062],\n",
       "       [ 1.    ,  7.2259],\n",
       "       [ 1.    ,  5.0269],\n",
       "       [ 1.    ,  6.5479],\n",
       "       [ 1.    ,  7.5386],\n",
       "       [ 1.    ,  5.0365],\n",
       "       [ 1.    , 10.274 ],\n",
       "       [ 1.    ,  5.1077],\n",
       "       [ 1.    ,  5.7292],\n",
       "       [ 1.    ,  5.1884],\n",
       "       [ 1.    ,  6.3557],\n",
       "       [ 1.    ,  9.7687],\n",
       "       [ 1.    ,  6.5159],\n",
       "       [ 1.    ,  8.5172],\n",
       "       [ 1.    ,  9.1802],\n",
       "       [ 1.    ,  6.002 ],\n",
       "       [ 1.    ,  5.5204],\n",
       "       [ 1.    ,  5.0594],\n",
       "       [ 1.    ,  5.7077],\n",
       "       [ 1.    ,  7.6366],\n",
       "       [ 1.    ,  5.8707],\n",
       "       [ 1.    ,  5.3054],\n",
       "       [ 1.    ,  8.2934],\n",
       "       [ 1.    , 13.394 ],\n",
       "       [ 1.    ,  5.4369]])"
      ]
     },
     "execution_count": 5,
     "metadata": {},
     "output_type": "execute_result"
    }
   ],
   "source": [
    "# rajoutons l'ordonnée à l'origine theta 0\n",
    "intercept=np.ones((data.shape[0],1))\n",
    "X=np.column_stack((intercept,data[:,0]))\n",
    "print (X.shape)\n",
    "y = data[:, 1]\n",
    "X"
   ]
  },
  {
   "cell_type": "code",
   "execution_count": 6,
   "metadata": {
    "id": "UZzbI6m9f2e8",
    "outputId": "d765b692-dda2-4cd4-ee58-cdc319c8a8c5"
   },
   "outputs": [
    {
     "data": {
      "text/plain": [
       "Text(0, 0.5, 'Bénéfice x1000')"
      ]
     },
     "execution_count": 6,
     "metadata": {},
     "output_type": "execute_result"
    },
    {
     "data": {
      "image/png": "[encoded data removed]",
      "text/plain": [
       "<Figure size 640x480 with 1 Axes>"
      ]
     },
     "metadata": {},
     "output_type": "display_data"
    }
   ],
   "source": [
    "# traçons ces données pour visualisation\n",
    "plt.scatter(X[:,1],y,marker ='x')\n",
    "plt.xlabel('Population x 1000')\n",
    "plt.ylabel('Bénéfice x1000')"
   ]
  },
  {
   "cell_type": "markdown",
   "metadata": {
    "id": "LEvfJ63Vf2e9"
   },
   "source": [
    "# Descente du Gradient : Préparation des fonctions"
   ]
  },
  {
   "cell_type": "markdown",
   "metadata": {
    "id": "GGTO0spOf2e9"
   },
   "source": [
    "1- Calcul du coût\n",
    "\n",
    "Cette fonction servira à calculer le cout $J(\\theta_0,\\theta_1)$\n",
    "\n",
    "Elle prendra l'ensemble de données d'apprentissage en entrée ainsi que les paramètres définis initialement"
   ]
  },
  {
   "cell_type": "code",
   "execution_count": 7,
   "metadata": {
    "id": "Cfi6ay_Lf2e-"
   },
   "outputs": [],
   "source": [
    "import time\n",
    "\n",
    "def computeCostNonVect(X, y, theta):\n",
    "    start_time = time.time()\n",
    "    cost = 0\n",
    "    predictions = X @ theta\n",
    "    # calculer le coût sans vectorisation, \n",
    "    for x,y1 in zip(predictions,y):\n",
    "        cost += (x - y1)**2\n",
    "    cost = cost/(2*len(y))\n",
    "    # afficher le temps de traitement\n",
    "    print(\"temps d'execution : \" ,(time.time() - start_time))\n",
    "    return cost\n",
    "    \n",
    "    "
   ]
  },
  {
   "cell_type": "markdown",
   "metadata": {},
   "source": [
    "Notons que $\\theta^T  x$ est équivalent à $X  \\theta $ où $X= \\begin{pmatrix}\n",
    "..(x^{(1)})^T..\\\\\n",
    "..(x^{(2)})^T..\\\\\n",
    ".\\\\\n",
    ".\\\\\n",
    ".\\\\\n",
    "..(x^{(m)})^T..\n",
    "\\end{pmatrix} $"
   ]
  },
  {
   "cell_type": "code",
   "execution_count": 81,
   "metadata": {
    "id": "S8QKCQzFf2e-"
   },
   "outputs": [],
   "source": [
    "import time\n",
    "def computeCost(X, y, theta):\n",
    "    # idéalement, tracer le coût à chaque itération pour s'assurer que la descente du gradient est correcte\n",
    "    # calculer le coût avec vectorisation, \n",
    "    start_time = time.time()\n",
    "    predictions = X @ theta # produit matriciel\n",
    "    y = y.reshape(-1, 1)\n",
    "    cost = np.sum((predictions - y)**2)\n",
    "    cost = cost/(2*len(y))\n",
    "    # afficher le temps de traitement\n",
    "    # print(\"temps d'execution : \" ,(time.time() - start_time))\n",
    "    return cost"
   ]
  },
  {
   "cell_type": "markdown",
   "metadata": {
    "id": "e5y3h-Dif2e_"
   },
   "source": [
    "2- Fonction de la descente du gradient\n",
    "\n",
    "Cette fonction mettra à jour les paramètres $\\theta_0,\\theta_1$ jusqu'à convergence: atteinte du nombre d'itérations max, ou dérivée assez petite."
   ]
  },
  {
   "cell_type": "code",
   "execution_count": 239,
   "metadata": {
    "id": "7hLdOX_8f2e_"
   },
   "outputs": [],
   "source": [
    "import numpy as np\n",
    "\n",
    "def gradientDescent(X, y, theta, alpha, iterations):\n",
    "    costs = []  # Liste pour stocker le coût à chaque itération\n",
    "    m = len(y)  # Nombre d'exemples\n",
    "\n",
    "    for i in range(iterations):\n",
    "        elt = []  \n",
    "        elt.append(theta[0,0])\n",
    "        elt.append(theta[1,0])\n",
    "\n",
    "        # Calcul des prédictions\n",
    "        predictions = X @ theta  # Produit matriciel (X * theta)\n",
    "        errors = predictions - y.reshape(-1, 1)  # Erreur entre les prédictions et y\n",
    "        # Calcul du coût\n",
    "        cost = np.sum(errors**2) / (2 * m)  # Fonction de coût J(theta)\n",
    "        elt.append(cost)\n",
    "        costs.append(elt)\n",
    "\n",
    "        # Calcul des gradients\n",
    "        grad0 = np.sum(errors) / m  # Gradient par rapport à theta0\n",
    "        grad1 = np.sum(errors * X[:, 1:]) / m  # Gradient par rapport à theta1\n",
    "\n",
    "        # Mise à jour des paramètres\n",
    "        theta[0,0] = theta[0,0] - alpha * grad0\n",
    "        theta[1,0] = theta[1,0] - alpha * grad1\n",
    "\n",
    "    return theta, costs\n"
   ]
  },
  {
   "cell_type": "markdown",
   "metadata": {
    "id": "Ibj4xistf2e_"
   },
   "source": [
    "# Descente du Gradient : Appel des fonctions"
   ]
  },
  {
   "cell_type": "markdown",
   "metadata": {},
   "source": [
    "Initialisation de $\\theta_0$ et $\\theta_1$"
   ]
  },
  {
   "cell_type": "code",
   "execution_count": 240,
   "metadata": {
    "id": "hM0d6keyf2fA"
   },
   "outputs": [
    {
     "name": "stdout",
     "output_type": "stream",
     "text": [
      "[[0.]\n",
      " [0.]]\n"
     ]
    }
   ],
   "source": [
    "theta = np.zeros((2, 1))\n",
    "print(theta)"
   ]
  },
  {
   "cell_type": "markdown",
   "metadata": {
    "id": "_QNKuRyMf2fA"
   },
   "source": [
    "Calculer le cout initial"
   ]
  },
  {
   "cell_type": "code",
   "execution_count": 152,
   "metadata": {
    "id": "1k9uq5olf2fA"
   },
   "outputs": [
    {
     "name": "stdout",
     "output_type": "stream",
     "text": [
      "temps d'execution :  0.0012538433074951172\n",
      "Calcule du coup sans vectorisation : [32.07273388]\n"
     ]
    }
   ],
   "source": [
    "initialCost=computeCostNonVect(X, y, theta)\n",
    "print(\"Calcule du coup sans vectorisation :\",initialCost)"
   ]
  },
  {
   "cell_type": "markdown",
   "metadata": {},
   "source": [
    "Calculer le cout initial avec vectorisation (numpy)"
   ]
  },
  {
   "cell_type": "code",
   "execution_count": 157,
   "metadata": {},
   "outputs": [
    {
     "name": "stdout",
     "output_type": "stream",
     "text": [
      "Calcule du coup avec vectorisation : nan\n"
     ]
    }
   ],
   "source": [
    "initialCost=computeCost(X, y, theta)\n",
    "print(\"Calcule du coup avec vectorisation :\",initialCost)"
   ]
  },
  {
   "cell_type": "markdown",
   "metadata": {
    "id": "oa2KSvlDf2fA"
   },
   "source": [
    "Appel des la fonction de calcul du gradient"
   ]
  },
  {
   "cell_type": "code",
   "execution_count": 245,
   "metadata": {
    "id": "QOAjE5Saf2fA"
   },
   "outputs": [
    {
     "name": "stdout",
     "output_type": "stream",
     "text": [
      "[[-3.8957756 ]\n",
      " [ 1.19303311]]\n"
     ]
    }
   ],
   "source": [
    "# paramètres\n",
    "iterations = 1500\n",
    "alpha = 0.01\n",
    "# Appel\n",
    "theta, costs = gradientDescent(X, y, theta, alpha, iterations)\n",
    "print(theta)"
   ]
  },
  {
   "cell_type": "markdown",
   "metadata": {},
   "source": [
    "Traçage de la ligne de régression sur les données"
   ]
  },
  {
   "cell_type": "code",
   "execution_count": 246,
   "metadata": {
    "id": "MkG1iz5qf2fB",
    "outputId": "9c659a66-e423-48f7-ee40-87155019717c"
   },
   "outputs": [
    {
     "data": {
      "text/plain": [
       "[<matplotlib.lines.Line2D at 0x23f64240550>]"
      ]
     },
     "execution_count": 246,
     "metadata": {},
     "output_type": "execute_result"
    },
    {
     "data": {
      "image/png": "[encoded data removed]",
      "text/plain": [
       "<Figure size 640x480 with 1 Axes>"
      ]
     },
     "metadata": {},
     "output_type": "display_data"
    }
   ],
   "source": [
    "y_pred=np.matmul(X,theta)\n",
    "plt.scatter(X[:,1],y,marker ='x')\n",
    "plt.xlabel('Population x 1000')\n",
    "plt.ylabel('Chiffre d\\'affaires x1000')\n",
    "plt.plot(X[:,1:],y_pred, c='red')\n",
    "# la ligne du graphe represente le traçage de la fonction hypothèse\n",
    "# la ligne devrait se rapprocher des données après entrainement avec la descente du gredient"
   ]
  },
  {
   "cell_type": "markdown",
   "metadata": {
    "id": "ydF1kmH_f2fB"
   },
   "source": [
    "Traçage du coût en fonction de $\\theta_0$ et $\\theta_1$"
   ]
  },
  {
   "cell_type": "code",
   "execution_count": null,
   "metadata": {
    "id": "pvs0tWIFf2fB"
   },
   "outputs": [],
   "source": []
  },
  {
   "cell_type": "markdown",
   "metadata": {},
   "source": [
    "Traçage du coût en fonction du nombre d'itérations"
   ]
  },
  {
   "cell_type": "code",
   "execution_count": 260,
   "metadata": {},
   "outputs": [
    {
     "data": {
      "image/png": "[encoded data removed]",
      "text/plain": [
       "<Figure size 640x480 with 1 Axes>"
      ]
     },
     "metadata": {},
     "output_type": "display_data"
    }
   ],
   "source": [
    "\n",
    "costs = np.array(costs)\n",
    "plt.plot(costs[:,2:], c='red')\n",
    "plt.grid()\n",
    "plt.xlabel('Iterations')\n",
    "plt.ylabel('Cout')\n",
    "plt.title('Cout par itération')\n",
    "plt.show()\n"
   ]
  },
  {
   "cell_type": "markdown",
   "metadata": {
    "id": "2VZ9MGMnf2fC"
   },
   "source": [
    "Prédire des valeurs de y"
   ]
  },
  {
   "cell_type": "code",
   "execution_count": 257,
   "metadata": {
    "id": "2vaMZaA0f2fC",
    "outputId": "07c3ca20-2552-4fa5-85c4-8051bed5510a"
   },
   "outputs": [
    {
     "data": {
      "text/plain": [
       "array([0.2798403])"
      ]
     },
     "execution_count": 257,
     "metadata": {},
     "output_type": "execute_result"
    }
   ],
   "source": [
    "# Predire pour une opulation = 35,000 et 70,000\n",
    "predict1 = np.matmul([1, 3.5],theta)\n",
    "predict1"
   ]
  },
  {
   "cell_type": "code",
   "execution_count": 258,
   "metadata": {
    "id": "1rQhJ7bEf2fC",
    "outputId": "808f885f-a159-40b3-bc98-19ac1276c00f"
   },
   "outputs": [
    {
     "data": {
      "text/plain": [
       "array([4.4554562])"
      ]
     },
     "execution_count": 258,
     "metadata": {},
     "output_type": "execute_result"
    }
   ],
   "source": [
    "predict2 = np.matmul([1, 7],theta)\n",
    "predict2"
   ]
  },
  {
   "cell_type": "markdown",
   "metadata": {
    "id": "_nksg6iNf2fC"
   },
   "source": [
    "# Régression linéaire à plusieurs variables"
   ]
  },
  {
   "cell_type": "markdown",
   "metadata": {
    "id": "_8j0lTWkf2fC"
   },
   "source": [
    "Proposer, l'aide des fonctions définies precedemment, une regression linéaire lorsque le nombre de descripeurs est supérieur à 1, en utilisant la base d'apprentissage suivante"
   ]
  },
  {
   "cell_type": "code",
   "execution_count": 3,
   "metadata": {
    "id": "kSNx25FIf2fC",
    "outputId": "2015ff14-5c51-4c0c-8e04-42d6807e34ad"
   },
   "outputs": [
    {
     "data": {
      "text/plain": [
       "(47, 3)"
      ]
     },
     "execution_count": 3,
     "metadata": {},
     "output_type": "execute_result"
    }
   ],
   "source": [
    "# données\n",
    "dataMulti = np.genfromtxt('dataMulti.csv', delimiter=',')\n",
    "dataMulti.shape"
   ]
  },
  {
   "cell_type": "code",
   "execution_count": 20,
   "metadata": {},
   "outputs": [
    {
     "name": "stdout",
     "output_type": "stream",
     "text": [
      "(47, 3)\n"
     ]
    },
    {
     "data": {
      "text/plain": [
       "array([1.000e+00, 2.104e+03, 3.000e+00])"
      ]
     },
     "execution_count": 20,
     "metadata": {},
     "output_type": "execute_result"
    }
   ],
   "source": [
    "X=np.concatenate([np.ones((dataMulti.shape[0], 1)), dataMulti[:, 0:2]], axis=1)\n",
    "print (X.shape)\n",
    "y = dataMulti[:, 2]\n",
    "X[0]"
   ]
  },
  {
   "cell_type": "code",
   "execution_count": null,
   "metadata": {},
   "outputs": [
    {
     "data": {
      "text/plain": [
       "Text(0, 0.5, 'Size')"
      ]
     },
     "execution_count": 22,
     "metadata": {},
     "output_type": "execute_result"
    },
    {
     "data": {
      "image/png": "[encoded data removed]",
      "text/plain": [
       "<Figure size 640x480 with 1 Axes>"
      ]
     },
     "metadata": {},
     "output_type": "display_data"
    }
   ],
   "source": [
    "# traçons ces données pour visualisation\n",
    "plt.scatter(X[:,1],y,marker ='x')\n",
    "plt.xlabel('Size (square feet)')\n",
    "plt.ylabel('Price')"
   ]
  },
  {
   "cell_type": "markdown",
   "metadata": {
    "id": "p0bfXUybf2fD"
   },
   "source": [
    "Pour cette ensemble de données, nous voudrions prédire le prix d'une maison (3ème colonne de dataMulti) à partir de :\n",
    "- sa supérficie (1ère colonne)\n",
    "- son nombre de chambres (2ème colonne)"
   ]
  },
  {
   "cell_type": "code",
   "execution_count": null,
   "metadata": {
    "id": "3u_rp_3xf2fD"
   },
   "outputs": [],
   "source": [
    "# d'abord créer X et y\n"
   ]
  },
  {
   "cell_type": "code",
   "execution_count": null,
   "metadata": {
    "id": "cSKcjaI_f2fD"
   },
   "outputs": [],
   "source": [
    "# redéfinissez vos fonctions de coût si cela est necessaire\n"
   ]
  },
  {
   "cell_type": "markdown",
   "metadata": {
    "id": "DBcDA_DCf2fD"
   },
   "source": [
    "Normalisation des données:\n",
    "$x_i = \\frac{x_i - \\mu_i}{\\sigma_i}$"
   ]
  },
  {
   "cell_type": "code",
   "execution_count": null,
   "metadata": {
    "id": "OyCIvOb1f2fD"
   },
   "outputs": [],
   "source": [
    "def featureNormalization(X):\n",
    "    "
   ]
  },
  {
   "cell_type": "markdown",
   "metadata": {
    "id": "vpQf_JxEf2fD"
   },
   "source": [
    "Appliquer la descente du gradient à plusieurs variables"
   ]
  },
  {
   "cell_type": "code",
   "execution_count": null,
   "metadata": {
    "id": "WLfWC_WIf2fE"
   },
   "outputs": [],
   "source": []
  },
  {
   "cell_type": "markdown",
   "metadata": {
    "id": "Kad6xSS4f2fE"
   },
   "source": [
    "Comparer la descente du gradient avec et sans normalisation\n",
    "- **Exemple**: voir la difference dans le temps de calcul"
   ]
  },
  {
   "cell_type": "code",
   "execution_count": null,
   "metadata": {},
   "outputs": [],
   "source": [
    "import time "
   ]
  },
  {
   "cell_type": "markdown",
   "metadata": {},
   "source": [
    "Sans normalisation"
   ]
  },
  {
   "cell_type": "code",
   "execution_count": null,
   "metadata": {
    "id": "KVKREJTZf2fE"
   },
   "outputs": [],
   "source": [
    "# Appliquer la descente du gradient sans normalisation\n",
    "start_time = time.time()\n",
    "theta_multi_no_scaling, initial_cost_no_scaling, final_cost_no_scaling, cost_history_multi_no_scaling = gradient_descent_multi_no_scaling(X_b_no_scaling, y, theta_no_scaling, alpha, iterations)\n",
    "end_time = time.time()\n",
    "\n",
    "print(\"Temps d'exécution de la descente du gradient avec plusieurs variables sans normalisation :\", end_time - start_time)\n",
    "\n",
    "# Affichage de theta_multi sans normalisation\n",
    "print(\"Theta après la descente du gradient sans normalisation :\")\n",
    "print(theta_multi_no_scaling)\n",
    "\n",
    "# Affichage du coût initial et final sans normalisation\n",
    "print(\"Coût initial sans normalisation:\", initial_cost_no_scaling)\n",
    "print(\"Coût final sans normalisation:\", final_cost_no_scaling)"
   ]
  },
  {
   "cell_type": "markdown",
   "metadata": {},
   "source": [
    "Avec normalisation"
   ]
  },
  {
   "cell_type": "code",
   "execution_count": null,
   "metadata": {},
   "outputs": [],
   "source": [
    "# Appliquer la descente du gradient avec normalisation\n",
    "start_time = time.time()\n",
    "theta_multi_with_scaling, initial_cost_with_scaling, final_cost_with_scaling, cost_history_multi_with_scaling = gradientDescent(X_b_with_scaling, y, theta_with_scaling, alpha, iterations)\n",
    "end_time = time.time()\n",
    "\n",
    "print(\"Temps d'exécution de la descente du gradient avec plusieurs variables avec normalisation :\", end_time - start_time)\n",
    "\n",
    "# Affichage de theta_multi avec normalisation\n",
    "print(\"Theta après la descente du gradient avec normalisation :\")\n",
    "print(theta_multi_with_scaling)\n",
    "\n",
    "# Affichage du coût initial et final avec normalisation\n",
    "print(\"Coût initial avec normalisation:\", initial_cost_with_scaling)\n",
    "print(\"Coût final avec normalisation:\", final_cost_with_scaling)"
   ]
  },
  {
   "cell_type": "code",
   "execution_count": null,
   "metadata": {},
   "outputs": [],
   "source": [
    "# Comparer les algorithmes de descente du gradient avec et sans normalisation\n",
    "# Calculer le pourcentage de convergence pour la descente du gradient sans normalisation\n",
    "convergence_percentage_no_scaling = (1 - cost_history_multi_no_scaling[-1] / cost_history_multi_no_scaling[0]) * 100\n",
    "\n",
    "# Calculer le pourcentage de convergence pour la descente du gradient avec normalisation\n",
    "convergence_percentage_with_scaling = (1 - cost_history_multi_with_scaling[-1] / cost_history_multi_with_scaling[0]) * 100\n",
    "\n",
    "print(\"Pourcentage de convergence sans normalisation:\", convergence_percentage_no_scaling)\n",
    "print(\"Pourcentage de convergence avec normalisation:\", convergence_percentage_with_scaling)"
   ]
  },
  {
   "cell_type": "markdown",
   "metadata": {
    "id": "r9NX3t8wf2fE"
   },
   "source": [
    "# Vérification de l'implementation\n",
    "Comparer vos algorithmes à ceux de scikitlearn"
   ]
  },
  {
   "cell_type": "code",
   "execution_count": null,
   "metadata": {
    "id": "Cb34UwI9f2fE"
   },
   "outputs": [],
   "source": [
    "from sklearn.linear_model import LinearRegression\n",
    "\n",
    "# Charger les données\n",
    "dataMulti = np.genfromtxt('dataMulti.csv', delimiter=',')\n",
    "\n",
    "# Séparer les caractéristiques (X) et les étiquettes (y)\n",
    "X = dataMulti[:, :2]  # Caractéristiques : supérficie et nombre de chambres\n",
    "y = dataMulti[:, 2]   # Étiquettes : prix de la maison\n",
    "\n",
    "# Initialiser le modèle de régression linéaire de scikit-learn\n",
    "model = LinearRegression()\n",
    "\n",
    "# Temps d'exécution et entraînement du modèle avec les données non normalisées\n",
    "start_time = time.time()\n",
    "model.fit(X, y)\n",
    "end_time = time.time()\n",
    "\n",
    "# Afficher les coefficients du modèle\n",
    "print(\"Coefficients du modèle scikit-learn (sans normalisation):\")\n",
    "print(\"Intercept:\", model.intercept_)\n",
    "print(\"Coefficients:\", model.coef_)\n",
    "\n",
    "# Prédiction des étiquettes avec le modèle entraîné\n",
    "y_pred = model.predict(X)\n",
    "\n",
    "# Calculer le coût initial et final\n",
    "initial_cost = np.mean((y - np.mean(y_pred)) ** 2) / 2\n",
    "final_cost = np.mean((y - y_pred) ** 2) / 2\n",
    "\n",
    "print(\"Coût initial (sans normalisation):\", initial_cost)\n",
    "print(\"Coût final (sans normalisation):\", final_cost)\n",
    "\n",
    "# Temps d'exécution de la régression linéaire avec scikit-learn\n",
    "print(\"Temps d'exécution de la régression linéaire avec scikit-learn:\", end_time - start_time)\n",
    "\n",
    "# Tracer la courbe des coûts\n",
    "plt.figure(figsize=(10, 6))\n",
    "plt.scatter(range(len(y)), y, color='blue', label='Données réelles')\n",
    "plt.plot(range(len(y)), y_pred, color='red', linewidth=2, label='Prédictions')\n",
    "plt.xlabel('Exemples')\n",
    "plt.ylabel('Prix')\n",
    "plt.title('Prédictions par rapport aux données réelles (sans normalisation)')\n",
    "plt.legend()\n",
    "plt.show()"
   ]
  },
  {
   "cell_type": "markdown",
   "metadata": {
    "id": "myj4lVHTf2fE"
   },
   "source": [
    "# Renforcement d'apprentissage\n",
    "Mettre ici toute idée qui pourrait renforcer votre apprentissage"
   ]
  },
  {
   "cell_type": "code",
   "execution_count": null,
   "metadata": {
    "id": "nyk59F2Lf2fE"
   },
   "outputs": [],
   "source": []
  }
 ],
 "metadata": {
  "colab": {
   "name": "TP 2 Descente du gradient.ipynb",
   "provenance": []
  },
  "kernelspec": {
   "display_name": "Python 3",
   "language": "python",
   "name": "python3"
  },
  "language_info": {
   "codemirror_mode": {
    "name": "ipython",
    "version": 3
   },
   "file_extension": ".py",
   "mimetype": "text/x-python",
   "name": "python",
   "nbconvert_exporter": "python",
   "pygments_lexer": "ipython3",
   "version": "3.13.2"
  }
 },
 "nbformat": 4,
 "nbformat_minor": 0
}
